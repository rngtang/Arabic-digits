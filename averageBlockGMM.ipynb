{
 "cells": [
  {
   "cell_type": "code",
   "execution_count": 14,
   "metadata": {},
   "outputs": [],
   "source": [
    "# Libraries\n",
    "import matplotlib.pyplot as plt\n",
    "from sklearn.mixture import GaussianMixture\n",
    "import numpy as np\n",
    "from sklearn.metrics import precision_recall_fscore_support"
   ]
  },
  {
   "cell_type": "code",
   "execution_count": 15,
   "metadata": {},
   "outputs": [],
   "source": [
    "def load_test_data(file_path):\n",
    "    # Opens file\n",
    "    with open(file_path, 'r') as file:\n",
    "        lines = file.readlines()\n",
    "    \n",
    "    # Variables to keep track of the data\n",
    "    data = []\n",
    "    labels = []\n",
    "    current_digit = 0\n",
    "    current_block = []\n",
    "    blocks_counter = 0\n",
    "\n",
    "    for line in lines:\n",
    "        # If the line is not blank\n",
    "        if line.strip():\n",
    "            # Get the first 9 coefficients\n",
    "            coefficients = list(map(float, line.split()))[:9]\n",
    "            current_block.append(coefficients)\n",
    "        else:\n",
    "            # If its the end of block\n",
    "            if current_block:\n",
    "                # Gets the average of the block\n",
    "                avr_vector = np.mean(current_block, axis=0)\n",
    "                data.append(avr_vector)\n",
    "                labels.append(current_digit)\n",
    "\n",
    "                # Reset the block\n",
    "                current_block = []\n",
    "                blocks_counter += 1\n",
    "\n",
    "            # If its the last block of the digit\n",
    "            if blocks_counter == 220:\n",
    "                current_digit += 1\n",
    "                blocks_counter = 0\n",
    "\n",
    "    # Adds the last block\n",
    "    if current_block:\n",
    "        avr_vector = np.mean(current_block, axis=0)\n",
    "        data.append(avr_vector)\n",
    "        labels.append(current_digit)\n",
    "\n",
    "    return data, labels"
   ]
  },
  {
   "cell_type": "code",
   "execution_count": 16,
   "metadata": {},
   "outputs": [],
   "source": [
    "def load_training_data(file_path):\n",
    "    # Opens file\n",
    "    with open(file_path, 'r') as file:\n",
    "        lines = file.readlines()\n",
    "    \n",
    "    # Variables to keep track of the data\n",
    "    data = []\n",
    "    labels = []\n",
    "    current_digit = 0\n",
    "    current_block = []\n",
    "    blocks_counter = 0\n",
    "\n",
    "    for line in lines:\n",
    "        # If the line is not blank\n",
    "        if line.strip():\n",
    "            # Get the first 9 coefficients\n",
    "            coefficients = list(map(float, line.split()))[:9]\n",
    "            current_block.append(coefficients)\n",
    "        # If its the end of a block\n",
    "        else:\n",
    "            if current_block:\n",
    "                # Gets the average of the block\n",
    "                avr_vector = np.mean(current_block, axis=0)\n",
    "                data.append(avr_vector)\n",
    "                labels.append(current_digit)\n",
    "\n",
    "                # Reset the block\n",
    "                current_block = []\n",
    "                blocks_counter += 1\n",
    "\n",
    "            # If its the last block of the digit\n",
    "            if blocks_counter == 660:\n",
    "                current_digit += 1\n",
    "                blocks_counter = 0\n",
    "\n",
    "    # Adds the last block\n",
    "    if current_block:\n",
    "        data.extend(current_block)\n",
    "        labels.extend([current_digit] * len(current_block))\n",
    "\n",
    "    return np.array(data), np.array(labels)"
   ]
  },
  {
   "cell_type": "code",
   "execution_count": 17,
   "metadata": {},
   "outputs": [],
   "source": [
    "# Function to train the GMM model\n",
    "def train_gmm_model(data, labels, num_components):\n",
    "    # Initialize a list to store the GMM models\n",
    "    gmm_models = []\n",
    "\n",
    "    # Train a GMM model for each digit\n",
    "    for digit in range(10):\n",
    "        # Get the data from the current digit\n",
    "        digit_data = data[np.array(labels) == digit]\n",
    "\n",
    "        # number of components per digit\n",
    "        components = num_components[digit]\n",
    "\n",
    "        # Train the GMM for the current digit\n",
    "        model = GaussianMixture(n_components=components, random_state=0)\n",
    "        model.fit(digit_data)\n",
    "\n",
    "        # Store the trained model\n",
    "        gmm_models.append(model)\n",
    "\n",
    "    return gmm_models"
   ]
  },
  {
   "cell_type": "code",
   "execution_count": 18,
   "metadata": {},
   "outputs": [],
   "source": [
    "# Function to calculate the log likelihood in a block\n",
    "def get_block_likelihood(block, gmm):\n",
    "    log_likelihoods = [gmm.score_samples([block])[0]]\n",
    "    total_log_likelihood = np.sum(log_likelihoods)\n",
    "    return total_log_likelihood"
   ]
  },
  {
   "cell_type": "code",
   "execution_count": 19,
   "metadata": {},
   "outputs": [],
   "source": [
    "# Reads the data\n",
    "file_path = './data/Train_Arabic_Digit.txt'\n",
    "train_data, train_labels = load_training_data(file_path)"
   ]
  },
  {
   "cell_type": "code",
   "execution_count": 20,
   "metadata": {},
   "outputs": [],
   "source": [
    "gmm_components = {0: 3, 1: 4, 2: 6, 3: 4, 4: 3, 5: 3, 6: 3, 7: 5, 8: 7, 9: 5}"
   ]
  },
  {
   "cell_type": "code",
   "execution_count": 21,
   "metadata": {},
   "outputs": [],
   "source": [
    "# Train the GMM models\n",
    "gmm_models = train_gmm_model(train_data, train_labels, gmm_components)"
   ]
  },
  {
   "cell_type": "code",
   "execution_count": 22,
   "metadata": {},
   "outputs": [],
   "source": [
    "# Load the test data\n",
    "test_file_path = './data/Test_Arabic_Digit.txt'\n",
    "test_data, test_labels = load_test_data(test_file_path)"
   ]
  },
  {
   "cell_type": "code",
   "execution_count": 23,
   "metadata": {},
   "outputs": [],
   "source": [
    "# Predict labels for each block in the test set\n",
    "predicted_labels = []\n",
    "for block in test_data:\n",
    "    block_likelihoods = [get_block_likelihood(block, gmm) for gmm in gmm_models]\n",
    "    predicted_digit = np.argmax(block_likelihoods)\n",
    "    predicted_labels.append(predicted_digit)"
   ]
  },
  {
   "cell_type": "code",
   "execution_count": 24,
   "metadata": {},
   "outputs": [
    {
     "name": "stdout",
     "output_type": "stream",
     "text": [
      "Overall Accuracy: 0.6504545454545455\n"
     ]
    }
   ],
   "source": [
    "# Calculate accuracy of the predictions\n",
    "accuracy = np.mean(np.array(predicted_labels) == np.array(test_labels))\n",
    "print(f'Overall Accuracy: {accuracy}')"
   ]
  },
  {
   "cell_type": "code",
   "execution_count": null,
   "metadata": {},
   "outputs": [
    {
     "data": {
      "image/png": "[encoded data removed]",
      "text/plain": [
       "<Figure size 1000x600 with 1 Axes>"
      ]
     },
     "metadata": {},
     "output_type": "display_data"
    }
   ],
   "source": [
    "# Calculate precision, recall, and F1-score for each digit\n",
    "precision, recall, f1, _ = precision_recall_fscore_support(\n",
    "    np.array(test_labels), \n",
    "    np.array(predicted_labels), \n",
    "    labels=np.arange(10)\n",
    ")\n",
    "\n",
    "# Bar chart for precision, recall, and F1-score\n",
    "x = np.arange(10)  # Digits from 0 to 9\n",
    "width = 0.25  # Width of each bar\n",
    "\n",
    "fig, ax = plt.subplots(figsize=(10, 6))\n",
    "\n",
    "# Plot each metric as grouped bars\n",
    "ax.bar(x - width, precision, width, label='Precision', alpha=0.7)\n",
    "ax.bar(x, recall, width, label='Recall', alpha=0.7)\n",
    "ax.bar(x + width, f1, width, label='F1-Score', alpha=0.7)\n",
    "\n",
    "# Add titles and labels\n",
    "ax.set_title('Precision, Recall, and F1-Score by Digit', fontsize=14)\n",
    "ax.set_xlabel('Digit', fontsize=12)\n",
    "ax.set_ylabel('Score', fontsize=12)\n",
    "ax.set_xticks(x)\n",
    "ax.set_xticklabels([str(i) for i in range(10)])\n",
    "ax.legend()\n",
    "\n",
    "# Add a grid for clarity\n",
    "ax.grid(axis='y', linestyle='--', alpha=0.7)\n",
    "\n",
    "# Display the plot\n",
    "plt.tight_layout()\n",
    "plt.show()"
   ]
  },
  {
   "cell_type": "code",
   "execution_count": null,
   "metadata": {},
   "outputs": [],
   "source": []
  }
 ],
 "metadata": {
  "kernelspec": {
   "display_name": ".venv",
   "language": "python",
   "name": "python3"
  },
  "language_info": {
   "codemirror_mode": {
    "name": "ipython",
    "version": 3
   },
   "file_extension": ".py",
   "mimetype": "text/x-python",
   "name": "python",
   "nbconvert_exporter": "python",
   "pygments_lexer": "ipython3",
   "version": "3.10.12"
  }
 },
 "nbformat": 4,
 "nbformat_minor": 2
}
